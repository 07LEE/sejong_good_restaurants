{
 "cells": [
  {
   "cell_type": "markdown",
   "id": "5e0a505e",
   "metadata": {},
   "source": [
    "# 업무추진비 보고서"
   ]
  },
  {
   "cell_type": "code",
   "execution_count": 1,
   "id": "29ef664d",
   "metadata": {},
   "outputs": [],
   "source": [
    "import seaborn as sns\n",
    "import pandas as pd\n",
    "import matplotlib.pyplot as plt\n",
    "import matplotlib\n",
    "import re, os\n",
    "import category_kakao as kakao"
   ]
  },
  {
   "cell_type": "code",
   "execution_count": 2,
   "id": "bd7250c6",
   "metadata": {},
   "outputs": [],
   "source": [
    "file = 'output_data'\n",
    "files = [i for i in os.listdir(file) if i.endswith('.csv')]\n",
    "df = pd.read_csv(f'output_data\\\\{files[0]}')\n",
    "df = df.drop(columns=['Unnamed: 0'])"
   ]
  },
  {
   "cell_type": "code",
   "execution_count": 3,
   "id": "97a5083c",
   "metadata": {},
   "outputs": [
    {
     "data": {
      "text/html": [
       "<div>\n",
       "<style scoped>\n",
       "    .dataframe tbody tr th:only-of-type {\n",
       "        vertical-align: middle;\n",
       "    }\n",
       "\n",
       "    .dataframe tbody tr th {\n",
       "        vertical-align: top;\n",
       "    }\n",
       "\n",
       "    .dataframe thead th {\n",
       "        text-align: right;\n",
       "    }\n",
       "</style>\n",
       "<table border=\"1\" class=\"dataframe\">\n",
       "  <thead>\n",
       "    <tr style=\"text-align: right;\">\n",
       "      <th></th>\n",
       "      <th>department</th>\n",
       "      <th>name</th>\n",
       "      <th>cost</th>\n",
       "      <th>people</th>\n",
       "      <th>date</th>\n",
       "      <th>category</th>\n",
       "    </tr>\n",
       "  </thead>\n",
       "  <tbody>\n",
       "    <tr>\n",
       "      <th>0</th>\n",
       "      <td>감사위원회</td>\n",
       "      <td>석교리</td>\n",
       "      <td>93000</td>\n",
       "      <td>6</td>\n",
       "      <td>2023-03-02</td>\n",
       "      <td>한식</td>\n",
       "    </tr>\n",
       "    <tr>\n",
       "      <th>1</th>\n",
       "      <td>감사위원회</td>\n",
       "      <td>두툼</td>\n",
       "      <td>92000</td>\n",
       "      <td>5</td>\n",
       "      <td>2023-03-06</td>\n",
       "      <td>한식</td>\n",
       "    </tr>\n",
       "    <tr>\n",
       "      <th>2</th>\n",
       "      <td>감사위원회</td>\n",
       "      <td>궁궐</td>\n",
       "      <td>126000</td>\n",
       "      <td>6</td>\n",
       "      <td>2023-03-09</td>\n",
       "      <td>한식</td>\n",
       "    </tr>\n",
       "    <tr>\n",
       "      <th>3</th>\n",
       "      <td>감사위원회</td>\n",
       "      <td>나루스시</td>\n",
       "      <td>104000</td>\n",
       "      <td>5</td>\n",
       "      <td>2023-03-13</td>\n",
       "      <td>일식</td>\n",
       "    </tr>\n",
       "    <tr>\n",
       "      <th>4</th>\n",
       "      <td>감사위원회</td>\n",
       "      <td>아호정</td>\n",
       "      <td>107900</td>\n",
       "      <td>6</td>\n",
       "      <td>2023-03-21</td>\n",
       "      <td>중식</td>\n",
       "    </tr>\n",
       "    <tr>\n",
       "      <th>...</th>\n",
       "      <td>...</td>\n",
       "      <td>...</td>\n",
       "      <td>...</td>\n",
       "      <td>...</td>\n",
       "      <td>...</td>\n",
       "      <td>...</td>\n",
       "    </tr>\n",
       "    <tr>\n",
       "      <th>740</th>\n",
       "      <td>환경정책과</td>\n",
       "      <td>오롯이</td>\n",
       "      <td>78000</td>\n",
       "      <td>4</td>\n",
       "      <td>2023-03-22</td>\n",
       "      <td>일식</td>\n",
       "    </tr>\n",
       "    <tr>\n",
       "      <th>741</th>\n",
       "      <td>환경정책과</td>\n",
       "      <td>우리홍콩딤섬</td>\n",
       "      <td>79000</td>\n",
       "      <td>7</td>\n",
       "      <td>2023-03-29</td>\n",
       "      <td>중식</td>\n",
       "    </tr>\n",
       "    <tr>\n",
       "      <th>742</th>\n",
       "      <td>환경정책과</td>\n",
       "      <td>우나기칸</td>\n",
       "      <td>60000</td>\n",
       "      <td>4</td>\n",
       "      <td>2023-03-30</td>\n",
       "      <td>일식</td>\n",
       "    </tr>\n",
       "    <tr>\n",
       "      <th>743</th>\n",
       "      <td>회계과</td>\n",
       "      <td>오롯이</td>\n",
       "      <td>145800</td>\n",
       "      <td>8</td>\n",
       "      <td>2023-03-10</td>\n",
       "      <td>일식</td>\n",
       "    </tr>\n",
       "    <tr>\n",
       "      <th>744</th>\n",
       "      <td>회계과</td>\n",
       "      <td>신미정춘천닭갈비</td>\n",
       "      <td>168500</td>\n",
       "      <td>7</td>\n",
       "      <td>2023-03-20</td>\n",
       "      <td>한식</td>\n",
       "    </tr>\n",
       "  </tbody>\n",
       "</table>\n",
       "<p>745 rows × 6 columns</p>\n",
       "</div>"
      ],
      "text/plain": [
       "    department      name    cost  people        date category\n",
       "0        감사위원회       석교리   93000       6  2023-03-02      한식 \n",
       "1        감사위원회        두툼   92000       5  2023-03-06      한식 \n",
       "2        감사위원회        궁궐  126000       6  2023-03-09       한식\n",
       "3        감사위원회      나루스시  104000       5  2023-03-13      일식 \n",
       "4        감사위원회       아호정  107900       6  2023-03-21       중식\n",
       "..         ...       ...     ...     ...         ...      ...\n",
       "740      환경정책과       오롯이   78000       4  2023-03-22       일식\n",
       "741      환경정책과    우리홍콩딤섬   79000       7  2023-03-29      중식 \n",
       "742      환경정책과      우나기칸   60000       4  2023-03-30      일식 \n",
       "743        회계과       오롯이  145800       8  2023-03-10       일식\n",
       "744        회계과  신미정춘천닭갈비  168500       7  2023-03-20      한식 \n",
       "\n",
       "[745 rows x 6 columns]"
      ]
     },
     "execution_count": 3,
     "metadata": {},
     "output_type": "execute_result"
    }
   ],
   "source": [
    "df"
   ]
  },
  {
   "cell_type": "markdown",
   "id": "31db11a9",
   "metadata": {},
   "source": [
    "## 업무 추진비 사용 경향"
   ]
  },
  {
   "cell_type": "code",
   "execution_count": 4,
   "id": "d1a899c3",
   "metadata": {
    "scrolled": true
   },
   "outputs": [
    {
     "name": "stdout",
     "output_type": "stream",
     "text": [
      "department\n",
      "감사위원회      964400\n",
      "감염병관리과     417000\n",
      "건설교통국     1271250\n",
      "건축과        573000\n",
      "경제산업국      947500\n",
      "           ...   \n",
      "한솔동        812500\n",
      "해밀동        463000\n",
      "환경녹지국     1095600\n",
      "환경정책과      619200\n",
      "회계과        314300\n",
      "Name: cost, Length: 100, dtype: int64\n"
     ]
    }
   ],
   "source": [
    "# 업무 추진비 사용 금액\n",
    "department_cost = df.groupby('department')['cost'].sum()\n",
    "print(department_cost)"
   ]
  },
  {
   "cell_type": "code",
   "execution_count": 5,
   "id": "9292bbb3",
   "metadata": {},
   "outputs": [
    {
     "name": "stdout",
     "output_type": "stream",
     "text": [
      "department\n",
      "감사위원회     20965.0\n",
      "감염병관리과    14893.0\n",
      "건설교통국     13970.0\n",
      "건축과       13643.0\n",
      "경제산업국     24295.0\n",
      "           ...   \n",
      "한솔동       13771.0\n",
      "해밀동       14030.0\n",
      "환경녹지국     14805.0\n",
      "환경정책과     15480.0\n",
      "회계과       20953.0\n",
      "Length: 100, dtype: float64 1\n"
     ]
    }
   ],
   "source": [
    "# 부서별 인원수 대비 금액\n",
    "department_people = df.groupby('department')['people'].sum()\n",
    "department_cost_per_person = department_cost / department_people\n",
    "print(round(department_cost_per_person), 1)"
   ]
  },
  {
   "cell_type": "code",
   "execution_count": 6,
   "id": "cca30436",
   "metadata": {},
   "outputs": [
    {
     "name": "stdout",
     "output_type": "stream",
     "text": [
      "오롯이         21\n",
      "궁궐          13\n",
      "사키          12\n",
      "함흥면옥        10\n",
      "내토왕코다리      10\n",
      "            ..\n",
      "로흐뚜          1\n",
      "피크닉백         1\n",
      "세종청사용포맛집     1\n",
      "아비꼬          1\n",
      "우리홍콩딤섬       1\n",
      "Name: name, Length: 440, dtype: int64\n"
     ]
    }
   ],
   "source": [
    "# 가장 많이 방문한 가게\n",
    "name_count = df['name'].value_counts()\n",
    "print(name_count)"
   ]
  },
  {
   "cell_type": "code",
   "execution_count": 7,
   "id": "0b89fde0",
   "metadata": {},
   "outputs": [
    {
     "name": "stdout",
     "output_type": "stream",
     "text": [
      "name\n",
      "오롯이                1942900\n",
      "궁궐                 1408700\n",
      "함흥면옥               1008800\n",
      "사키                  994400\n",
      "낙지촌                 956200\n",
      "                    ...   \n",
      "선식당                  19100\n",
      "온버터                  19000\n",
      "폴바셋여의도국회대로점(서울)      15600\n",
      "아크                   13600\n",
      "아이갓에브리씽              10500\n",
      "Name: cost, Length: 440, dtype: int64\n"
     ]
    }
   ],
   "source": [
    "# 가장 많은 금액을 쓴 가게\n",
    "name_cost = df.groupby('name')['cost'].sum()\n",
    "name_cost = name_cost.sort_values(ascending=False)\n",
    "print(name_cost)"
   ]
  },
  {
   "cell_type": "code",
   "execution_count": 8,
   "id": "7e7b47e4",
   "metadata": {},
   "outputs": [],
   "source": [
    "# 이름별 비용 합계 계산\n",
    "name_counts = name_count[name_count >= 2]\n",
    "cost_count = name_cost/name_counts\n",
    "cost_count = cost_count.dropna()\n",
    "cost_count = cost_count.sort_values(ascending=False)"
   ]
  },
  {
   "cell_type": "code",
   "execution_count": 9,
   "id": "07cfb5d2",
   "metadata": {},
   "outputs": [],
   "source": [
    "# 다양한 부서가 방문한 가게\n",
    "depart_name = df.groupby('name')['department'].nunique()\n",
    "depart_name = depart_name.sort_values(ascending=False)"
   ]
  },
  {
   "cell_type": "markdown",
   "id": "0b2b939c",
   "metadata": {},
   "source": [
    "### Markdown 문서 생성"
   ]
  },
  {
   "cell_type": "code",
   "execution_count": 10,
   "id": "21a7be21",
   "metadata": {},
   "outputs": [],
   "source": [
    "header = f\"\"\"\n",
    "# 세종시 업무추진비 맛집 ({files[0]})\n",
    "\n",
    "업무추진비 URL : https://www.sejong.go.kr/bbs/R0091/list.do\n",
    "\"\"\"\n",
    "\n",
    "body = f\"\"\"\n",
    "## 업무 추진비 사용 내역\n",
    "\n",
    "### (1) 많이 방문한 가게\n",
    "\n",
    "{name_count.head(5).to_markdown()}\n",
    "\n",
    "### (2) 많은 금액을 지출한 가게\n",
    "\n",
    "{name_cost.map('{:,.0f}'.format).head(5).to_markdown()}\n",
    "\n",
    "### (3) 방문 횟수 대비 비용이 큰 가게\n",
    "\n",
    "{cost_count.map('{:,.0f}'.format).head(5).to_markdown()}\n",
    "\n",
    "### (4) 다양한 부서가 방문하는 가게\n",
    "\n",
    "{depart_name.map('{:,.0f}'.format).head(5).to_markdown()}\n",
    "\n",
    "\"\"\"\n",
    "\n",
    "md_file = header + body"
   ]
  },
  {
   "cell_type": "markdown",
   "id": "cf1068a0",
   "metadata": {},
   "source": [
    "### MD 파일 작성"
   ]
  },
  {
   "cell_type": "code",
   "execution_count": 11,
   "id": "37adeae3",
   "metadata": {},
   "outputs": [],
   "source": [
    "# 파일 작성\n",
    "if not os.path.exists('report'):\n",
    "    os.makedirs('report')\n",
    "\n",
    "with open(f\"report\\\\{files[0][:-4]}.md\", \"w\", encoding=\"utf-8\") as f:\n",
    "  f.write(md_file)"
   ]
  },
  {
   "cell_type": "code",
   "execution_count": null,
   "id": "7950b7df",
   "metadata": {},
   "outputs": [],
   "source": []
  }
 ],
 "metadata": {
  "kernelspec": {
   "display_name": "Python 3 (ipykernel)",
   "language": "python",
   "name": "python3"
  },
  "language_info": {
   "codemirror_mode": {
    "name": "ipython",
    "version": 3
   },
   "file_extension": ".py",
   "mimetype": "text/x-python",
   "name": "python",
   "nbconvert_exporter": "python",
   "pygments_lexer": "ipython3",
   "version": "3.10.9"
  }
 },
 "nbformat": 4,
 "nbformat_minor": 5
}

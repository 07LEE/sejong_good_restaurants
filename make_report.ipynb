{
 "cells": [
  {
   "cell_type": "markdown",
   "id": "5e0a505e",
   "metadata": {},
   "source": [
    "# 업무추진비 보고서"
   ]
  },
  {
   "cell_type": "code",
   "execution_count": 1,
   "id": "29ef664d",
   "metadata": {},
   "outputs": [],
   "source": [
    "import seaborn as sns\n",
    "import pandas as pd\n",
    "import matplotlib.pyplot as plt\n",
    "import matplotlib\n",
    "import re, os\n",
    "import category_kakao as kakao"
   ]
  },
  {
   "cell_type": "code",
   "execution_count": 2,
   "id": "bd7250c6",
   "metadata": {},
   "outputs": [],
   "source": [
    "file = 'output_data'\n",
    "files = [i for i in os.listdir(file) if i.endswith('.csv')]\n",
    "df = pd.read_csv(f'output_data\\\\{files[-1]}')\n",
    "df = df.drop(columns=['Unnamed: 0'])"
   ]
  },
  {
   "cell_type": "code",
   "execution_count": 3,
   "id": "97a5083c",
   "metadata": {},
   "outputs": [
    {
     "data": {
      "text/html": [
       "<div>\n",
       "<style scoped>\n",
       "    .dataframe tbody tr th:only-of-type {\n",
       "        vertical-align: middle;\n",
       "    }\n",
       "\n",
       "    .dataframe tbody tr th {\n",
       "        vertical-align: top;\n",
       "    }\n",
       "\n",
       "    .dataframe thead th {\n",
       "        text-align: right;\n",
       "    }\n",
       "</style>\n",
       "<table border=\"1\" class=\"dataframe\">\n",
       "  <thead>\n",
       "    <tr style=\"text-align: right;\">\n",
       "      <th></th>\n",
       "      <th>department</th>\n",
       "      <th>name</th>\n",
       "      <th>cost</th>\n",
       "      <th>people</th>\n",
       "      <th>date</th>\n",
       "      <th>category</th>\n",
       "    </tr>\n",
       "  </thead>\n",
       "  <tbody>\n",
       "    <tr>\n",
       "      <th>0</th>\n",
       "      <td>감사위원회</td>\n",
       "      <td>기찬메밀국수</td>\n",
       "      <td>373000</td>\n",
       "      <td>29</td>\n",
       "      <td>2023-04-03</td>\n",
       "      <td>미분류</td>\n",
       "    </tr>\n",
       "    <tr>\n",
       "      <th>1</th>\n",
       "      <td>감사위원회</td>\n",
       "      <td>에어산</td>\n",
       "      <td>199500</td>\n",
       "      <td>29</td>\n",
       "      <td>2023-04-03</td>\n",
       "      <td>미분류</td>\n",
       "    </tr>\n",
       "    <tr>\n",
       "      <th>2</th>\n",
       "      <td>감사위원회</td>\n",
       "      <td>나루스시</td>\n",
       "      <td>78000</td>\n",
       "      <td>4</td>\n",
       "      <td>2023-04-04</td>\n",
       "      <td>일식</td>\n",
       "    </tr>\n",
       "    <tr>\n",
       "      <th>3</th>\n",
       "      <td>감사위원회</td>\n",
       "      <td>석교리</td>\n",
       "      <td>119000</td>\n",
       "      <td>7</td>\n",
       "      <td>2023-04-06</td>\n",
       "      <td>한식</td>\n",
       "    </tr>\n",
       "    <tr>\n",
       "      <th>4</th>\n",
       "      <td>감사위원회</td>\n",
       "      <td>순남이네</td>\n",
       "      <td>45000</td>\n",
       "      <td>4</td>\n",
       "      <td>2023-04-11</td>\n",
       "      <td>한식</td>\n",
       "    </tr>\n",
       "    <tr>\n",
       "      <th>...</th>\n",
       "      <td>...</td>\n",
       "      <td>...</td>\n",
       "      <td>...</td>\n",
       "      <td>...</td>\n",
       "      <td>...</td>\n",
       "      <td>...</td>\n",
       "    </tr>\n",
       "    <tr>\n",
       "      <th>689</th>\n",
       "      <td>환경정책과</td>\n",
       "      <td>신미정춘천닭갈비</td>\n",
       "      <td>86300</td>\n",
       "      <td>6</td>\n",
       "      <td>2023-04-22</td>\n",
       "      <td>한식</td>\n",
       "    </tr>\n",
       "    <tr>\n",
       "      <th>690</th>\n",
       "      <td>회계과</td>\n",
       "      <td>오롯이</td>\n",
       "      <td>64000</td>\n",
       "      <td>4</td>\n",
       "      <td>2023-04-04</td>\n",
       "      <td>일식</td>\n",
       "    </tr>\n",
       "    <tr>\n",
       "      <th>691</th>\n",
       "      <td>회계과</td>\n",
       "      <td>육산</td>\n",
       "      <td>144000</td>\n",
       "      <td>12</td>\n",
       "      <td>2023-04-12</td>\n",
       "      <td>한식</td>\n",
       "    </tr>\n",
       "    <tr>\n",
       "      <th>692</th>\n",
       "      <td>회계과</td>\n",
       "      <td>그릴200도</td>\n",
       "      <td>206000</td>\n",
       "      <td>10</td>\n",
       "      <td>2023-04-20</td>\n",
       "      <td>한식</td>\n",
       "    </tr>\n",
       "    <tr>\n",
       "      <th>693</th>\n",
       "      <td>회계과</td>\n",
       "      <td>우리숯불닭갈비</td>\n",
       "      <td>87000</td>\n",
       "      <td>4</td>\n",
       "      <td>2023-04-21</td>\n",
       "      <td>한식</td>\n",
       "    </tr>\n",
       "  </tbody>\n",
       "</table>\n",
       "<p>694 rows × 6 columns</p>\n",
       "</div>"
      ],
      "text/plain": [
       "    department      name    cost  people        date category\n",
       "0        감사위원회    기찬메밀국수  373000      29  2023-04-03      미분류\n",
       "1        감사위원회       에어산  199500      29  2023-04-03      미분류\n",
       "2        감사위원회      나루스시   78000       4  2023-04-04      일식 \n",
       "3        감사위원회       석교리  119000       7  2023-04-06      한식 \n",
       "4        감사위원회      순남이네   45000       4  2023-04-11       한식\n",
       "..         ...       ...     ...     ...         ...      ...\n",
       "689      환경정책과  신미정춘천닭갈비   86300       6  2023-04-22      한식 \n",
       "690        회계과       오롯이   64000       4  2023-04-04       일식\n",
       "691        회계과        육산  144000      12  2023-04-12      한식 \n",
       "692        회계과    그릴200도  206000      10  2023-04-20      한식 \n",
       "693        회계과   우리숯불닭갈비   87000       4  2023-04-21      한식 \n",
       "\n",
       "[694 rows x 6 columns]"
      ]
     },
     "execution_count": 3,
     "metadata": {},
     "output_type": "execute_result"
    }
   ],
   "source": [
    "df"
   ]
  },
  {
   "cell_type": "markdown",
   "id": "31db11a9",
   "metadata": {},
   "source": [
    "## 업무 추진비 사용 경향"
   ]
  },
  {
   "cell_type": "code",
   "execution_count": 4,
   "id": "d1a899c3",
   "metadata": {
    "scrolled": true
   },
   "outputs": [
    {
     "name": "stdout",
     "output_type": "stream",
     "text": [
      "department\n",
      "감사위원회     2981400\n",
      "감염병관리과     476500\n",
      "건설교통국     1203300\n",
      "건축과        389000\n",
      "경제산업국      879000\n",
      "           ...   \n",
      "한솔동        305000\n",
      "해밀동        226900\n",
      "환경녹지국     1145900\n",
      "환경정책과      348620\n",
      "회계과        501000\n",
      "Name: cost, Length: 100, dtype: int64\n"
     ]
    }
   ],
   "source": [
    "# 업무 추진비 사용 금액\n",
    "department_cost = df.groupby('department')['cost'].sum()\n",
    "print(department_cost)"
   ]
  },
  {
   "cell_type": "code",
   "execution_count": 5,
   "id": "9292bbb3",
   "metadata": {},
   "outputs": [
    {
     "name": "stdout",
     "output_type": "stream",
     "text": [
      "department\n",
      "감사위원회     17234.0\n",
      "감염병관리과    14439.0\n",
      "건설교통국     12939.0\n",
      "건축과       13893.0\n",
      "경제산업국     21439.0\n",
      "           ...   \n",
      "한솔동       12200.0\n",
      "해밀동       14181.0\n",
      "환경녹지국      6821.0\n",
      "환경정책과      8300.0\n",
      "회계과       16700.0\n",
      "Length: 100, dtype: float64 1\n"
     ]
    }
   ],
   "source": [
    "# 부서별 인원수 대비 금액\n",
    "department_people = df.groupby('department')['people'].sum()\n",
    "department_cost_per_person = department_cost / department_people\n",
    "print(round(department_cost_per_person), 1)"
   ]
  },
  {
   "cell_type": "code",
   "execution_count": 6,
   "id": "cca30436",
   "metadata": {},
   "outputs": [
    {
     "name": "stdout",
     "output_type": "stream",
     "text": [
      "오롯이        17\n",
      "궁궐         11\n",
      "두툼         11\n",
      "관내업체        8\n",
      "내토왕코다리      8\n",
      "           ..\n",
      "세이로정        1\n",
      "신미정닭갈비      1\n",
      "온기          1\n",
      "다인아구찜       1\n",
      "우리숯불닭갈비     1\n",
      "Name: name, Length: 431, dtype: int64\n"
     ]
    }
   ],
   "source": [
    "# 가장 많이 방문한 가게\n",
    "name_count = df['name'].value_counts()\n",
    "print(name_count)"
   ]
  },
  {
   "cell_type": "code",
   "execution_count": 7,
   "id": "0b89fde0",
   "metadata": {},
   "outputs": [
    {
     "name": "stdout",
     "output_type": "stream",
     "text": [
      "name\n",
      "오롯이          1943000\n",
      "궁궐           1722400\n",
      "세종장어대가       1238000\n",
      "관내업체         1218000\n",
      "두툼            994500\n",
      "              ...   \n",
      "주식회사해궁         12000\n",
      "텐퍼센트커피어진점      12000\n",
      "콩카페            11900\n",
      "커피소녀#(서울)      11000\n",
      "보비스쿰커피랩        11000\n",
      "Name: cost, Length: 431, dtype: int64\n"
     ]
    }
   ],
   "source": [
    "# 가장 많은 금액을 쓴 가게\n",
    "name_cost = df.groupby('name')['cost'].sum()\n",
    "name_cost = name_cost.sort_values(ascending=False)\n",
    "print(name_cost)"
   ]
  },
  {
   "cell_type": "code",
   "execution_count": 8,
   "id": "7e7b47e4",
   "metadata": {},
   "outputs": [],
   "source": [
    "# 이름별 비용 합계 계산\n",
    "name_counts = name_count[name_count >= 2]\n",
    "cost_count = name_cost/name_counts\n",
    "cost_count = cost_count.dropna()\n",
    "cost_count = cost_count.sort_values(ascending=False)"
   ]
  },
  {
   "cell_type": "code",
   "execution_count": 9,
   "id": "07cfb5d2",
   "metadata": {},
   "outputs": [],
   "source": [
    "# 다양한 부서가 방문한 가게\n",
    "depart_name = df.groupby('name')['department'].nunique()\n",
    "depart_name = depart_name.sort_values(ascending=False)"
   ]
  },
  {
   "cell_type": "markdown",
   "id": "0b2b939c",
   "metadata": {},
   "source": [
    "### Markdown 문서 생성"
   ]
  },
  {
   "cell_type": "code",
   "execution_count": 10,
   "id": "21a7be21",
   "metadata": {},
   "outputs": [],
   "source": [
    "header = f\"\"\"\n",
    "# 세종시 업무추진비 맛집 ({files[-1][:-4]})\n",
    "\n",
    "업무추진비 URL : https://www.sejong.go.kr/bbs/R0091/list.do\n",
    "\"\"\"\n",
    "\n",
    "body = f\"\"\"\n",
    "## 업무 추진비 사용 내역\n",
    "\n",
    "### (1) 많이 방문한 가게\n",
    "\n",
    "{name_count.head(5).to_markdown()}\n",
    "\n",
    "### (2) 많은 금액을 지출한 가게\n",
    "\n",
    "{name_cost.map('{:,.0f}'.format).head(5).to_markdown()}\n",
    "\n",
    "### (3) 방문 횟수 대비 비용이 큰 가게\n",
    "\n",
    "{cost_count.map('{:,.0f}'.format).head(5).to_markdown()}\n",
    "\n",
    "### (4) 다양한 부서가 방문하는 가게\n",
    "\n",
    "{depart_name.map('{:,.0f}'.format).head(5).to_markdown()}\n",
    "\n",
    "\"\"\"\n",
    "\n",
    "md_file = header + body"
   ]
  },
  {
   "cell_type": "markdown",
   "id": "cf1068a0",
   "metadata": {},
   "source": [
    "### MD 파일 작성"
   ]
  },
  {
   "cell_type": "code",
   "execution_count": 12,
   "id": "37adeae3",
   "metadata": {},
   "outputs": [],
   "source": [
    "# 파일 작성\n",
    "if not os.path.exists('report'):\n",
    "    os.makedirs('report')\n",
    "\n",
    "with open(f\"report\\\\{files[-1][:-4]}.md\", \"w\", encoding=\"utf-8\") as f:\n",
    "  f.write(md_file)"
   ]
  },
  {
   "cell_type": "code",
   "execution_count": null,
   "id": "7950b7df",
   "metadata": {},
   "outputs": [],
   "source": []
  }
 ],
 "metadata": {
  "kernelspec": {
   "display_name": "Python 3 (ipykernel)",
   "language": "python",
   "name": "python3"
  },
  "language_info": {
   "codemirror_mode": {
    "name": "ipython",
    "version": 3
   },
   "file_extension": ".py",
   "mimetype": "text/x-python",
   "name": "python",
   "nbconvert_exporter": "python",
   "pygments_lexer": "ipython3",
   "version": "3.10.9"
  }
 },
 "nbformat": 4,
 "nbformat_minor": 5
}
